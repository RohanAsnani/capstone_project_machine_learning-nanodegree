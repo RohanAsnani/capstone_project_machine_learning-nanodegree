{
 "cells": [
  {
   "cell_type": "code",
   "execution_count": 25,
   "metadata": {
    "colab": {
     "base_uri": "https://localhost:8080/",
     "height": 260
    },
    "colab_type": "code",
    "id": "ivuJg-hIqNZq",
    "outputId": "f7f41389-a0ca-48b3-eca4-645cd1c703bc"
   },
   "outputs": [
    {
     "name": "stdout",
     "output_type": "stream",
     "text": [
      "[name: \"/device:CPU:0\"\n",
      "device_type: \"CPU\"\n",
      "memory_limit: 268435456\n",
      "locality {\n",
      "}\n",
      "incarnation: 13819407395793272952\n",
      "]\n"
     ]
    }
   ],
   "source": [
    "import keras\n",
    "from tensorflow.python.client import device_lib\n",
    "\n",
    "print(device_lib.list_local_devices())\n",
    "import numpy as np\n",
    "import pandas as pd\n",
    "from collections import defaultdict\n",
    "import re\n",
    "\n",
    "\n",
    "import sys\n",
    "import os\n",
    "\n",
    "from keras.preprocessing.text import Tokenizer\n",
    "from keras.preprocessing.sequence import pad_sequences\n",
    "from keras.utils.np_utils import to_categorical\n",
    "\n",
    "from keras.layers import Embedding\n",
    "from keras.layers import Dense, Input, Flatten\n",
    "from keras.layers import Conv1D, MaxPooling1D, Embedding, Add,Concatenate, Dropout\n",
    "from keras.models import Model\n",
    "\n",
    "MAX_SEQUENCE_LENGTH = 100\n",
    "MAX_NB_WORDS = 200000\n",
    "EMBEDDING_DIM = 100"
   ]
  },
  {
   "cell_type": "code",
   "execution_count": 26,
   "metadata": {
    "colab": {},
    "colab_type": "code",
    "id": "ELanyIWcqVH2"
   },
   "outputs": [],
   "source": [
    "def clean_str(string):\n",
    "    \"\"\"\n",
    "    Cleaning of dataset\n",
    "    \"\"\"\n",
    "    string = re.sub(r\"\\\\\", \"\", string)    \n",
    "    string = re.sub(r\"\\'\", \"\", string)    \n",
    "    string = re.sub(r\"\\\"\", \"\", string)    \n",
    "    return string.strip().lower()"
   ]
  },
  {
   "cell_type": "code",
   "execution_count": 27,
   "metadata": {},
   "outputs": [
    {
     "data": {
      "text/html": [
       "<div>\n",
       "<style scoped>\n",
       "    .dataframe tbody tr th:only-of-type {\n",
       "        vertical-align: middle;\n",
       "    }\n",
       "\n",
       "    .dataframe tbody tr th {\n",
       "        vertical-align: top;\n",
       "    }\n",
       "\n",
       "    .dataframe thead th {\n",
       "        text-align: right;\n",
       "    }\n",
       "</style>\n",
       "<table border=\"1\" class=\"dataframe\">\n",
       "  <thead>\n",
       "    <tr style=\"text-align: right;\">\n",
       "      <th></th>\n",
       "      <th>id</th>\n",
       "      <th>text</th>\n",
       "      <th>label</th>\n",
       "    </tr>\n",
       "  </thead>\n",
       "  <tbody>\n",
       "    <tr>\n",
       "      <th>0</th>\n",
       "      <td>7.311660e+17</td>\n",
       "      <td>ðŸ”¥ca kkk grand wizard ðŸ”¥ endorses @hillary...</td>\n",
       "      <td>unverified</td>\n",
       "    </tr>\n",
       "    <tr>\n",
       "      <th>1</th>\n",
       "      <td>7.145990e+17</td>\n",
       "      <td>an open letter to trump voters from his top st...</td>\n",
       "      <td>unverified</td>\n",
       "    </tr>\n",
       "    <tr>\n",
       "      <th>2</th>\n",
       "      <td>6.918090e+17</td>\n",
       "      <td>america is a nation of second chances â€”@potu...</td>\n",
       "      <td>non-rumor</td>\n",
       "    </tr>\n",
       "    <tr>\n",
       "      <th>3</th>\n",
       "      <td>6.932050e+17</td>\n",
       "      <td>brandon marshall visits and offers advice, sup...</td>\n",
       "      <td>non-rumor</td>\n",
       "    </tr>\n",
       "    <tr>\n",
       "      <th>4</th>\n",
       "      <td>5.511000e+17</td>\n",
       "      <td>rip elly may clampett: so sad to learn #beverl...</td>\n",
       "      <td>true</td>\n",
       "    </tr>\n",
       "    <tr>\n",
       "      <th>5</th>\n",
       "      <td>7.672240e+17</td>\n",
       "      <td>former 3 doors down guitarist matt roberts has...</td>\n",
       "      <td>non-rumor</td>\n",
       "    </tr>\n",
       "    <tr>\n",
       "      <th>6</th>\n",
       "      <td>7.155160e+17</td>\n",
       "      <td>craigslist ad: â€˜get paid $15 an hour to prot...</td>\n",
       "      <td>unverified</td>\n",
       "    </tr>\n",
       "    <tr>\n",
       "      <th>7</th>\n",
       "      <td>5.141060e+17</td>\n",
       "      <td>just in: missing afghan soldiers found trying ...</td>\n",
       "      <td>true</td>\n",
       "    </tr>\n",
       "    <tr>\n",
       "      <th>8</th>\n",
       "      <td>5.003200e+17</td>\n",
       "      <td>the day #ferguson cops told a dirty, bloody li...</td>\n",
       "      <td>unverified</td>\n",
       "    </tr>\n",
       "    <tr>\n",
       "      <th>9</th>\n",
       "      <td>5.003200e+17</td>\n",
       "      <td>the day #ferguson cops told a dirty, bloody li...</td>\n",
       "      <td>unverified</td>\n",
       "    </tr>\n",
       "    <tr>\n",
       "      <th>10</th>\n",
       "      <td>5.003200e+17</td>\n",
       "      <td>if we shot everyone in the street for stealing...</td>\n",
       "      <td>unverified</td>\n",
       "    </tr>\n",
       "    <tr>\n",
       "      <th>11</th>\n",
       "      <td>5.003200e+17</td>\n",
       "      <td>if we shot everyone in the street for stealing...</td>\n",
       "      <td>unverified</td>\n",
       "    </tr>\n",
       "    <tr>\n",
       "      <th>12</th>\n",
       "      <td>4.953670e+17</td>\n",
       "      <td>#riphulkhogan my heart is ripping like your sh...</td>\n",
       "      <td>false</td>\n",
       "    </tr>\n",
       "    <tr>\n",
       "      <th>13</th>\n",
       "      <td>5.322070e+17</td>\n",
       "      <td>a chick-fil-a manager allegedly banned this hi...</td>\n",
       "      <td>false</td>\n",
       "    </tr>\n",
       "    <tr>\n",
       "      <th>14</th>\n",
       "      <td>5.601880e+17</td>\n",
       "      <td>islamic tribunal using sharia law in texas has...</td>\n",
       "      <td>false</td>\n",
       "    </tr>\n",
       "    <tr>\n",
       "      <th>15</th>\n",
       "      <td>5.315690e+17</td>\n",
       "      <td>alpha male rt @marc_leibowitz: photo of vladim...</td>\n",
       "      <td>false</td>\n",
       "    </tr>\n",
       "    <tr>\n",
       "      <th>16</th>\n",
       "      <td>4.898290e+17</td>\n",
       "      <td>à¹€à¸œà¸¢à¸à¸šà¸à¸¢à¸¹à¹€à¸„à¸£à¸™à¸­à¸²à¸ˆà...</td>\n",
       "      <td>false</td>\n",
       "    </tr>\n",
       "    <tr>\n",
       "      <th>17</th>\n",
       "      <td>5.249260e+17</td>\n",
       "      <td>shooter still on loose after uniformed soldier...</td>\n",
       "      <td>unverified</td>\n",
       "    </tr>\n",
       "    <tr>\n",
       "      <th>18</th>\n",
       "      <td>5.249260e+17</td>\n",
       "      <td>shooter still on loose after uniformed soldier...</td>\n",
       "      <td>unverified</td>\n",
       "    </tr>\n",
       "    <tr>\n",
       "      <th>19</th>\n",
       "      <td>5.249260e+17</td>\n",
       "      <td>shooter still on loose after uniformed soldier...</td>\n",
       "      <td>true</td>\n",
       "    </tr>\n",
       "  </tbody>\n",
       "</table>\n",
       "</div>"
      ],
      "text/plain": [
       "              id                                               text  \\\n",
       "0   7.311660e+17  ðŸ”¥ca kkk grand wizard ðŸ”¥ endorses @hillary...   \n",
       "1   7.145990e+17  an open letter to trump voters from his top st...   \n",
       "2   6.918090e+17  america is a nation of second chances â€”@potu...   \n",
       "3   6.932050e+17  brandon marshall visits and offers advice, sup...   \n",
       "4   5.511000e+17  rip elly may clampett: so sad to learn #beverl...   \n",
       "5   7.672240e+17  former 3 doors down guitarist matt roberts has...   \n",
       "6   7.155160e+17  craigslist ad: â€˜get paid $15 an hour to prot...   \n",
       "7   5.141060e+17  just in: missing afghan soldiers found trying ...   \n",
       "8   5.003200e+17  the day #ferguson cops told a dirty, bloody li...   \n",
       "9   5.003200e+17  the day #ferguson cops told a dirty, bloody li...   \n",
       "10  5.003200e+17  if we shot everyone in the street for stealing...   \n",
       "11  5.003200e+17  if we shot everyone in the street for stealing...   \n",
       "12  4.953670e+17  #riphulkhogan my heart is ripping like your sh...   \n",
       "13  5.322070e+17  a chick-fil-a manager allegedly banned this hi...   \n",
       "14  5.601880e+17  islamic tribunal using sharia law in texas has...   \n",
       "15  5.315690e+17  alpha male rt @marc_leibowitz: photo of vladim...   \n",
       "16  4.898290e+17  à¹€à¸œà¸¢à¸à¸šà¸à¸¢à¸¹à¹€à¸„à¸£à¸™à¸­à¸²à¸ˆà...   \n",
       "17  5.249260e+17  shooter still on loose after uniformed soldier...   \n",
       "18  5.249260e+17  shooter still on loose after uniformed soldier...   \n",
       "19  5.249260e+17  shooter still on loose after uniformed soldier...   \n",
       "\n",
       "         label  \n",
       "0   unverified  \n",
       "1   unverified  \n",
       "2    non-rumor  \n",
       "3    non-rumor  \n",
       "4         true  \n",
       "5    non-rumor  \n",
       "6   unverified  \n",
       "7         true  \n",
       "8   unverified  \n",
       "9   unverified  \n",
       "10  unverified  \n",
       "11  unverified  \n",
       "12       false  \n",
       "13       false  \n",
       "14       false  \n",
       "15       false  \n",
       "16       false  \n",
       "17  unverified  \n",
       "18  unverified  \n",
       "19        true  "
      ]
     },
     "execution_count": 27,
     "metadata": {},
     "output_type": "execute_result"
    }
   ],
   "source": [
    "import os \n",
    "os.chdir(\"C:\\\\Users\\\\rohan\\\\Desktop\\\\LeadingIndia.ai\\\\TASK3\")\n",
    "df1= pd.read_csv('pt1.csv')\n",
    "df2= pd.read_csv('pt2.csv')\n",
    "#data_valid = pd.read_csv(\"valid.tsv\", sep='\\t')\n",
    "#data_test=pd.read_csv(\"test.tsv\",sep='\\t')\n",
    "#data_train.head()\n",
    "\n",
    "#data_train.columns = ['id','label','statement','subject','speaker', 'job', 'state','party','barely_true_c','false_c','half_true_c','mostly_true_c','pants_on_fire_c','venue']\n",
    " \n",
    "#data_valid.columns =['id','label','statement','subject','speaker', 'job', 'state','party','barely_true_c','false_c','half_true_c','mostly_true_c','pants_on_fire_c','venue']\n",
    "\n",
    "\n",
    "\n",
    "#data_test = ['id','label','statement','subject','speaker', 'job', 'state','party','barely_true_c','false_c','half_true_c','mostly_true_c','pants_on_fire_c','venue']\n",
    "\n",
    "\n",
    "#df = pd.concat([data_train, data_valid])\n",
    "\n",
    "data_train=df2.merge(df1, left_on='id', right_on='id')\n",
    "data_train.head(20)\n",
    "data_train.to_csv('data.csv')\n",
    "#data_train.columns\n",
    "#data_train['Label']\n",
    "#data_train['Label']\n",
    "\n",
    "\n",
    "#data_train=pd.read_csv(\"data.csv\")\n",
    "#data_train[\"Label\"]\n",
    "data_train.head(20)"
   ]
  },
  {
   "cell_type": "code",
   "execution_count": 28,
   "metadata": {
    "colab": {
     "base_uri": "https://localhost:8080/",
     "height": 350
    },
    "colab_type": "code",
    "id": "_3MEvV0Jqe6W",
    "outputId": "845be9fd-748c-45e5-86c6-bc0a651a17c5"
   },
   "outputs": [
    {
     "name": "stdout",
     "output_type": "stream",
     "text": [
      "Index(['id', 'text', 'label'], dtype='object')\n",
      "What the raw input data looks like:\n",
      "             id                                               text       label\n",
      "0  7.311660e+17  ðŸ”¥ca kkk grand wizard ðŸ”¥ endorses @hillary...  unverified\n",
      "1  7.145990e+17  an open letter to trump voters from his top st...  unverified\n",
      "2  6.918090e+17  america is a nation of second chances â€”@potu...   non-rumor\n",
      "3  6.932050e+17  brandon marshall visits and offers advice, sup...   non-rumor\n",
      "4  5.511000e+17  rip elly may clampett: so sad to learn #beverl...        true\n",
      "(1714, 3)\n",
      "1714\n"
     ]
    }
   ],
   "source": [
    "\n",
    "# Input Data preprocessing\n",
    "\n",
    "print(data_train.columns)\n",
    "print('What the raw input data looks like:')\n",
    "print(data_train[0:5])\n",
    "print(data_train.shape)\n",
    "#data_train = data_train.drop(['Unnamed: 0'],axis = 1)\n",
    "print(data_train.shape[0])\n",
    "\n",
    "texts = []\n",
    "labels = []\n",
    "\n",
    "for i in range(data_train.shape[0]):\n",
    "    text1 = data_train.id[i]\n",
    "    text2 = data_train.text[i]\n",
    "    \n",
    "    text = str(text1) +\"\"+ str(text2) \n",
    "    texts.append(text)\n",
    "    if data_train.label[i] == 'false' :\n",
    "        labels.append(0)\n",
    "    elif data_train.label[i] == 'true' :\n",
    "        labels.append(1)\n",
    "    elif data_train.label[i] == 'unverified' : \n",
    "        labels.append(2)\n",
    "    elif data_train.label[i] == 'non-rumor' : \n",
    "        labels.append(3)\n",
    "    \n",
    "  \n",
    "\n",
    "\n"
   ]
  },
  {
   "cell_type": "code",
   "execution_count": 32,
   "metadata": {},
   "outputs": [
    {
     "name": "stdout",
     "output_type": "stream",
     "text": [
      "[2, 2, 3, 3, 1, 3, 2, 1, 2, 2, 2, 2, 0, 0, 0, 0, 0, 2, 2, 1, 2, 2, 1, 2, 2, 1, 3, 2, 0, 3, 1, 0, 3, 2, 0, 2, 2, 2, 0, 3, 0, 0, 3, 1, 1, 1, 1, 0, 2, 3, 2, 0, 3, 3, 3, 3, 2, 2, 2, 2, 2, 0, 2, 2, 3, 2, 1, 3, 2, 1, 1, 1, 1, 1, 1, 1, 1, 1, 1, 1, 1, 1, 1, 1, 1, 1, 1, 1, 1, 1, 1, 1, 1, 1, 1, 2, 3, 2, 2, 2, 3, 3, 0, 1, 1, 1, 1, 0, 2, 0, 3, 0, 0, 1, 0, 0, 0, 0, 0, 0, 0, 0, 0, 2, 0, 0, 2, 1, 1, 2, 3, 1, 0, 1, 2, 1, 1, 2, 3, 3, 0, 2, 2, 3, 1, 1, 3, 0, 2, 2, 3, 0, 0, 3, 3, 2, 2, 2, 2, 3, 0, 3, 0, 3, 2, 2, 0, 1, 2, 2, 1, 1, 3, 0, 0, 0, 3, 3, 3, 3, 3, 3, 0, 2, 3, 3, 1, 3, 2, 2, 1, 1, 1, 1, 0, 0, 2, 2, 3, 1, 1, 1, 1, 1, 3, 0, 3, 3, 3, 1, 1, 1, 1, 2, 3, 0, 0, 0, 0, 1, 0, 1, 1, 1, 1, 1, 1, 1, 1, 1, 3, 3, 3, 3, 1, 0, 0, 1, 0, 1, 2, 1, 1, 1, 0, 2, 2, 2, 3, 1, 2, 1, 2, 3, 3, 1, 2, 1, 1, 1, 2, 1, 0, 2, 1, 2, 3, 1, 1, 1, 1, 0, 2, 0, 1, 3, 1, 1, 0, 0, 0, 2, 3, 0, 0, 3, 0, 3, 3, 3, 3, 3, 0, 1, 2, 2, 2, 2, 3, 3, 2, 2, 1, 2, 0, 0, 0, 0, 1, 0, 0, 0, 0, 0, 2, 3, 2, 3, 3, 1, 0, 0, 2, 0, 2, 0, 3, 0, 0, 1, 0, 3, 1, 2, 1, 1, 1, 1, 1, 1, 1, 1, 1, 2, 2, 2, 2, 2, 0, 2, 2, 0, 3, 0, 2, 0, 1, 1, 1, 1, 1, 1, 1, 1, 1, 2, 1, 1, 1, 1, 2, 0, 3, 2, 3, 1, 2, 2, 3, 2, 2, 2, 1, 2, 2, 0, 1, 1, 1, 1, 0, 3, 2, 1, 3, 2, 3, 0, 0, 2, 1, 1, 1, 0, 3, 0, 3, 3, 3, 3, 3, 0, 3, 2, 2, 3, 0, 1, 2, 3, 3, 3, 3, 3, 1, 1, 2, 1, 1, 2, 1, 1, 2, 1, 3, 1, 1, 3, 1, 0, 2, 0, 0, 0, 2, 0, 3, 2, 1, 1, 0, 1, 3, 2, 1, 0, 2, 1, 1, 1, 1, 1, 3, 0, 2, 2, 3, 0, 1, 0, 1, 1, 1, 1, 1, 3, 2, 2, 2, 2, 2, 2, 2, 2, 2, 3, 1, 2, 2, 2, 2, 1, 3, 2, 0, 2, 0, 0, 2, 0, 3, 0, 3, 1, 3, 3, 3, 2, 1, 2, 2, 0, 2, 0, 2, 2, 2, 0, 0, 0, 0, 1, 1, 1, 1, 1, 1, 1, 1, 1, 2, 1, 1, 1, 1, 0, 2, 3, 0, 0, 0, 0, 3, 3, 0, 2, 0, 3, 1, 1, 2, 2, 2, 3, 3, 3, 2, 3, 1, 0, 0, 0, 2, 2, 3, 1, 2, 1, 2, 0, 0, 2, 3, 0, 2, 3, 3, 0, 2, 1, 1, 1, 1, 1, 1, 1, 1, 1, 1, 1, 1, 1, 1, 1, 1, 1, 0, 1, 1, 2, 3, 2, 0, 3, 0, 0, 3, 0, 1, 1, 0, 1, 1, 1, 1, 3, 0, 0, 3, 1, 3, 1, 3, 3, 2, 2, 2, 0, 2, 3, 1, 1, 1, 1, 1, 0, 2, 3, 0, 3, 1, 0, 2, 2, 1, 1, 1, 1, 2, 3, 1, 0, 0, 3, 1, 3, 2, 1, 1, 2, 2, 2, 1, 0, 3, 3, 1, 0, 3, 1, 0, 2, 1, 1, 2, 1, 0, 0, 2, 3, 0, 1, 1, 1, 1, 1, 1, 2, 0, 0, 0, 0, 1, 2, 1, 1, 2, 1, 1, 2, 1, 1, 1, 1, 1, 1, 1, 1, 1, 1, 1, 0, 0, 0, 0, 3, 1, 1, 1, 1, 1, 3, 1, 0, 2, 1, 3, 3, 0, 0, 0, 2, 3, 3, 0, 3, 3, 1, 3, 2, 0, 2, 1, 3, 0, 3, 2, 3, 1, 1, 0, 1, 2, 0, 1, 1, 1, 1, 1, 3, 3, 3, 3, 3, 1, 3, 3, 0, 3, 1, 2, 3, 1, 0, 0, 2, 3, 0, 3, 1, 2, 3, 0, 0, 1, 1, 3, 2, 2, 0, 2, 3, 2, 0, 0, 2, 3, 3, 2, 0, 1, 3, 3, 2, 0, 0, 1, 3, 2, 1, 1, 1, 1, 3, 0, 1, 1, 1, 1, 1, 3, 0, 1, 1, 3, 3, 3, 3, 1, 1, 3, 0, 2, 1, 1, 2, 2, 2, 3, 0, 1, 2, 3, 1, 1, 1, 1, 1, 3, 1, 2, 3, 3, 0, 1, 1, 1, 1, 1, 1, 1, 1, 1, 1, 0, 0, 0, 0, 3, 2, 0, 1, 3, 3, 1, 1, 2, 1, 2, 3, 3, 2, 3, 1, 2, 3, 1, 2, 2, 3, 1, 3, 1, 1, 2, 2, 1, 2, 2, 3, 1, 1, 0, 3, 0, 2, 3, 0, 1, 3, 3, 1, 3, 3, 2, 1, 3, 2, 2, 3, 1, 3, 2, 3, 3, 3, 3, 2, 1, 3, 3, 3, 3, 1, 1, 1, 2, 1, 0, 2, 1, 0, 0, 3, 2, 2, 3, 0, 1, 2, 2, 0, 3, 0, 0, 0, 2, 2, 2, 2, 0, 3, 2, 2, 1, 1, 1, 1, 0, 0, 0, 0, 2, 2, 2, 0, 2, 3, 1, 2, 2, 3, 0, 0, 2, 1, 2, 2, 1, 0, 1, 1, 1, 3, 1, 0, 0, 3, 3, 0, 0, 3, 3, 3, 0, 0, 3, 0, 0, 0, 2, 0, 0, 0, 1, 0, 0, 3, 3, 3, 3, 3, 3, 3, 3, 3, 0, 2, 0, 1, 1, 1, 1, 1, 1, 1, 1, 1, 1, 1, 0, 2, 2, 0, 0, 3, 1, 1, 2, 0, 1, 3, 0, 2, 1, 2, 3, 2, 3, 2, 3, 2, 1, 1, 3, 1, 3, 0, 3, 2, 2, 1, 0, 2, 2, 3, 1, 1, 1, 3, 0, 2, 3, 1, 0, 3, 3, 0, 3, 3, 3, 0, 1, 1, 3, 3, 0, 1, 1, 1, 3, 3, 1, 2, 3, 1, 0, 3, 3, 1, 1, 0, 0, 0, 1, 2, 0, 0, 3, 3, 3, 0, 0, 3, 2, 2, 2, 1, 2, 3, 3, 1, 0, 0, 0, 0, 1, 3, 3, 3, 3, 2, 2, 1, 3, 2, 1, 3, 0, 0, 2, 2, 3, 3, 2, 2, 3, 2, 1, 1, 1, 2, 1, 3, 1, 0, 1, 2, 2, 1, 2, 2, 2, 0, 1, 3, 0, 0, 1, 2, 3, 0, 3, 3, 0, 2, 3, 3, 1, 0, 3, 2, 0, 3, 0, 0, 1, 0, 1, 0, 2, 0, 3, 3, 2, 2, 0, 0, 3, 3, 0, 0, 2, 1, 1, 0, 3, 0, 0, 3, 2, 2, 3, 2, 3, 3, 2, 1, 2, 1, 1, 3, 3, 1, 1, 3, 2, 3, 1, 0, 3, 0, 1, 3, 1, 2, 1, 2, 3, 1, 1, 2, 3, 1, 3, 1, 2, 2, 2, 2, 0, 0, 0, 0, 3, 2, 3, 0, 3, 0, 0, 1, 3, 1, 1, 2, 2, 2, 1, 0, 3, 0, 2, 0, 0, 0, 1, 1, 2, 3, 0, 3, 3, 2, 0, 1, 0, 1, 2, 2, 3, 0, 0, 2, 2, 3, 0, 0, 2, 3, 1, 0, 3, 3, 3, 3, 1, 0, 3, 2, 2, 0, 3, 3, 0, 0, 3, 2, 2, 2, 0, 0, 0, 0, 2, 0, 0, 1, 2, 3, 3, 3, 1, 0, 2, 0, 0, 0, 2, 2, 0, 1, 1, 0, 2, 0, 2, 0, 2, 3, 2, 0, 2, 0, 1, 3, 3, 0, 0, 3, 2, 3, 3, 3, 0, 3, 0, 0, 0, 1, 2, 0, 0, 3, 3, 0, 3, 2, 3, 2, 1, 3, 3, 3, 3, 3, 1, 1, 0, 0, 2, 3, 3, 2, 2, 2, 0, 1, 0, 2, 1, 1, 3, 3, 0, 0, 0, 0, 1, 1, 2, 2, 0, 0, 2, 2, 2, 3, 3, 2, 3, 2, 1, 3, 2, 2, 0, 3, 1, 2, 1, 3, 3, 2, 0, 3, 2, 0, 0, 1, 2, 1, 2, 0, 0, 2, 3, 1, 0, 0, 2, 0, 3, 2, 3, 3, 2, 3, 3, 3, 3, 3, 0, 1, 2, 0, 2, 2, 0, 2, 1, 2, 3, 2, 1, 1, 1, 2, 0, 1, 1, 2, 2, 1, 2, 0, 1, 1, 2, 0, 0, 3, 3, 2, 0, 2, 0, 2, 3, 3, 1, 2, 0, 2, 3, 2, 3, 0, 3, 3, 3, 2, 3, 3, 0, 0, 2, 0, 2, 0, 3, 0, 1, 1, 1, 1, 1, 1, 3, 1, 1, 1, 1, 3, 0, 0, 3, 2, 2, 3, 2, 1, 2, 1, 0, 0, 3, 2, 1, 2, 0, 0, 1, 1, 1, 1, 2, 1, 1, 0, 1, 1, 3, 3, 0, 0, 2, 0, 0, 0, 2, 1, 2, 0, 3, 3, 3, 2, 1, 3, 1, 0, 3, 0, 1, 1, 2, 2, 2, 2, 2, 2, 0, 1, 3, 2, 0, 1, 1, 1, 3, 0, 3, 3, 1, 0, 2, 1, 2, 1, 1, 0, 1, 2, 3, 1, 0, 1, 0, 1, 0, 3, 0, 0, 0, 0, 0, 3, 3, 3, 2, 2, 2, 0, 1, 0, 3, 2, 0, 2, 2, 0, 2, 2, 3, 2, 1, 1, 2, 2, 1, 2, 1, 1, 1, 1, 2, 3, 2, 3, 1, 1, 0, 0, 2, 2, 3, 0, 0, 1, 1, 3, 2, 0, 2, 3, 3, 3, 3, 3, 0, 0, 3, 1, 0, 3, 2, 2, 2, 1, 1, 3, 0, 3, 1, 3, 1, 1, 3, 1, 3, 2, 0, 2]\n",
      "1714\n",
      "Found 6996 unique tokens.\n"
     ]
    }
   ],
   "source": [
    "print(labels)\n",
    "print(len(labels))\n",
    "tokenizer = Tokenizer(num_words=MAX_NB_WORDS)\n",
    "tokenizer.fit_on_texts(texts)\n",
    "sequences = tokenizer.texts_to_sequences(texts)\n",
    "\n",
    "word_index = tokenizer.word_index\n",
    "print('Found %s unique tokens.' % len(word_index))"
   ]
  },
  {
   "cell_type": "code",
   "execution_count": 33,
   "metadata": {
    "colab": {
     "base_uri": "https://localhost:8080/",
     "height": 52
    },
    "colab_type": "code",
    "id": "Ee1DXnYQqr1J",
    "outputId": "f59b7344-ade1-442a-8129-d528508ba198"
   },
   "outputs": [
    {
     "name": "stdout",
     "output_type": "stream",
     "text": [
      "Shape of data tensor: (1714, 100)\n",
      "Shape of label tensor: (1714, 4)\n"
     ]
    }
   ],
   "source": [
    "# Pad input sequences\n",
    "data = pad_sequences(sequences, maxlen=MAX_SEQUENCE_LENGTH)\n",
    "labels = to_categorical(np.asarray(labels),num_classes = 4)\n",
    "print('Shape of data tensor:', data.shape)\n",
    "print('Shape of label tensor:', labels.shape)"
   ]
  },
  {
   "cell_type": "code",
   "execution_count": 34,
   "metadata": {
    "colab": {
     "base_uri": "https://localhost:8080/",
     "height": 104
    },
    "colab_type": "code",
    "id": "l3P0mwTPqyiy",
    "outputId": "6319991e-644d-4dd5-85e8-a81c27f9f8b5"
   },
   "outputs": [
    {
     "name": "stdout",
     "output_type": "stream",
     "text": [
      "Size of train, validation, test: 1628 1029 685\n",
      "real & fake news in train,valt,test:\n",
      "[383. 490. 385. 370.]\n",
      "[234. 315. 238. 242.]\n",
      "[163. 193. 169. 160.]\n"
     ]
    }
   ],
   "source": [
    "# Train test validation Split\n",
    "from sklearn.model_selection import train_test_split\n",
    "\n",
    "indices = np.arange(data.shape[0])\n",
    "np.random.shuffle(indices)\n",
    "data = data[indices]\n",
    "labels = labels[indices]\n",
    "x_train, x_test, y_train, y_test = train_test_split( data, labels, test_size=0.05, random_state=42)\n",
    "x_test, x_val, y_test, y_val = train_test_split( data, labels, test_size=0.6, random_state=42)\n",
    "print('Size of train, validation, test:', len(y_train), len(y_val), len(y_test))\n",
    "\n",
    "print('real & fake news in train,valt,test:')\n",
    "print(y_train.sum(axis=0))\n",
    "print(y_val.sum(axis=0))\n",
    "print(y_test.sum(axis=0))"
   ]
  },
  {
   "cell_type": "code",
   "execution_count": 35,
   "metadata": {
    "colab": {},
    "colab_type": "code",
    "id": "OMTwsaqZq3Tm"
   },
   "outputs": [],
   "source": [
    "from keras.models import Sequential\n",
    "from keras.layers.convolutional import Conv3D\n",
    "from keras.layers.convolutional_recurrent import ConvLSTM2D\n",
    "from keras.layers.normalization import BatchNormalization\n",
    "import numpy as np\n",
    "from matplotlib import pyplot as plt\n",
    "from keras.layers import Dense, Embedding, LSTM, GRU\n"
   ]
  },
  {
   "cell_type": "code",
   "execution_count": 36,
   "metadata": {
    "colab": {
     "base_uri": "https://localhost:8080/",
     "height": 34
    },
    "colab_type": "code",
    "id": "owQbXPaDq7pH",
    "outputId": "e6555028-2298-44d4-bcf6-e29ec7372642"
   },
   "outputs": [
    {
     "name": "stdout",
     "output_type": "stream",
     "text": [
      "Total 400000 word vectors in Glove.\n"
     ]
    }
   ],
   "source": [
    "#Using Pre-trained word embeddings \n",
    "os.chdir(\"C:\\\\Users\\\\rohan\\\\Desktop\\\\LeadingIndia.ai\")\n",
    "GLOVE_DIR = \"data\" \n",
    "embeddings_index = {}\n",
    "f = open(os.path.join(GLOVE_DIR, 'glove.6B.100d.txt'), encoding=\"utf8\")\n",
    "for line in f:\n",
    "    values = line.split()\n",
    "    #print(values[1:])\n",
    "    word = values[0]\n",
    "    coefs = np.asarray(values[1:], dtype='float32')\n",
    "    embeddings_index[word] = coefs\n",
    "f.close()\n",
    "\n",
    "print('Total %s word vectors in Glove.' % len(embeddings_index))\n",
    "\n",
    "embedding_matrix = np.random.random((len(word_index) + 1, EMBEDDING_DIM))\n",
    "for word, i in word_index.items():\n",
    "    embedding_vector = embeddings_index.get(word)\n",
    "    if embedding_vector is not None:\n",
    "        # words not found in embedding index will be all-zeros.\n",
    "        embedding_matrix[i] = embedding_vector\n",
    "        \n",
    "embedding_layer = Embedding(len(word_index) + 1,\n",
    "                            EMBEDDING_DIM,\n",
    "                            weights=[embedding_matrix],\n",
    "                            input_length=MAX_SEQUENCE_LENGTH)"
   ]
  },
  {
   "cell_type": "code",
   "execution_count": 37,
   "metadata": {
    "colab": {
     "base_uri": "https://localhost:8080/",
     "height": 992
    },
    "colab_type": "code",
    "id": "qAC39IKHrl74",
    "outputId": "4c1327dd-d553-498d-f590-bfb5efca9adb"
   },
   "outputs": [
    {
     "name": "stdout",
     "output_type": "stream",
     "text": [
      "Model: \"sequential_1\"\n",
      "_________________________________________________________________\n",
      "Layer (type)                 Output Shape              Param #   \n",
      "=================================================================\n",
      "embedding_1 (Embedding)      (None, 100, 100)          699700    \n",
      "_________________________________________________________________\n",
      "dropout_1 (Dropout)          (None, 100, 100)          0         \n",
      "_________________________________________________________________\n",
      "conv1d_1 (Conv1D)            (None, 100, 32)           16032     \n",
      "_________________________________________________________________\n",
      "max_pooling1d_1 (MaxPooling1 (None, 50, 32)            0         \n",
      "_________________________________________________________________\n",
      "conv1d_2 (Conv1D)            (None, 50, 64)            6208      \n",
      "_________________________________________________________________\n",
      "max_pooling1d_2 (MaxPooling1 (None, 25, 64)            0         \n",
      "_________________________________________________________________\n",
      "lstm_1 (LSTM)                (None, 100)               66000     \n",
      "_________________________________________________________________\n",
      "batch_normalization_1 (Batch (None, 100)               400       \n",
      "_________________________________________________________________\n",
      "dense_1 (Dense)              (None, 256)               25856     \n",
      "_________________________________________________________________\n",
      "dense_2 (Dense)              (None, 128)               32896     \n",
      "_________________________________________________________________\n",
      "dense_3 (Dense)              (None, 64)                8256      \n",
      "_________________________________________________________________\n",
      "dense_4 (Dense)              (None, 4)                 260       \n",
      "=================================================================\n",
      "Total params: 855,608\n",
      "Trainable params: 855,408\n",
      "Non-trainable params: 200\n",
      "_________________________________________________________________\n",
      "None\n"
     ]
    },
    {
     "name": "stderr",
     "output_type": "stream",
     "text": [
      "C:\\ProgramData\\Anaconda3\\envs\\tensorflow_env\\lib\\site-packages\\tensorflow_core\\python\\framework\\indexed_slices.py:433: UserWarning: Converting sparse IndexedSlices to a dense Tensor of unknown shape. This may consume a large amount of memory.\n",
      "  \"Converting sparse IndexedSlices to a dense Tensor of unknown shape. \"\n"
     ]
    },
    {
     "name": "stdout",
     "output_type": "stream",
     "text": [
      "Epoch 1/10\n",
      "1628/1628 [==============================] - 2s 1ms/step - loss: 0.5656 - accuracy: 0.7483\n",
      "Epoch 2/10\n",
      "1628/1628 [==============================] - 1s 652us/step - loss: 0.5465 - accuracy: 0.7525\n",
      "Epoch 3/10\n",
      "1628/1628 [==============================] - 1s 651us/step - loss: 0.5122 - accuracy: 0.7689\n",
      "Epoch 4/10\n",
      "1628/1628 [==============================] - 1s 650us/step - loss: 0.4601 - accuracy: 0.7849\n",
      "Epoch 5/10\n",
      "1628/1628 [==============================] - 1s 642us/step - loss: 0.4090 - accuracy: 0.8140\n",
      "Epoch 6/10\n",
      "1628/1628 [==============================] - 1s 637us/step - loss: 0.3615 - accuracy: 0.8329\n",
      "Epoch 7/10\n",
      "1628/1628 [==============================] - 1s 638us/step - loss: 0.2986 - accuracy: 0.8667\n",
      "Epoch 8/10\n",
      "1628/1628 [==============================] - 1s 673us/step - loss: 0.2352 - accuracy: 0.9036\n",
      "Epoch 9/10\n",
      "1628/1628 [==============================] - 1s 739us/step - loss: 0.1712 - accuracy: 0.9347\n",
      "Epoch 10/10\n",
      "1628/1628 [==============================] - 1s 709us/step - loss: 0.1319 - accuracy: 0.9504\n"
     ]
    }
   ],
   "source": [
    "embedding_vecor_length = 32\n",
    "modell = Sequential()\n",
    "modell.add(embedding_layer)\n",
    "modell.add(Dropout(0.2))\n",
    "modell.add(Conv1D(filters=32, kernel_size=5, padding='same', activation='relu'))\n",
    "modell.add(MaxPooling1D(pool_size=2))\n",
    "modell.add(Conv1D(filters=64, kernel_size=3, padding='same', activation='relu'))\n",
    "modell.add(MaxPooling1D(pool_size=2))\n",
    "modell.add(LSTM(100, dropout=0.2, recurrent_dropout=0.2))\n",
    "modell.add(BatchNormalization())\n",
    "modell.add(Dense(256, activation='relu'))\n",
    "modell.add(Dense(128, activation='relu'))\n",
    "modell.add(Dense(64, activation='relu'))\n",
    "modell.add(Dense(4, activation='softmax'))\n",
    "modell.compile(loss='binary_crossentropy', optimizer='adam', metrics=['accuracy'])\n",
    "print(modell.summary())\n",
    "modell.fit(x_train, y_train, epochs=10, batch_size=64)\n",
    "\n",
    "modell.save('lstm.h5')\n"
   ]
  },
  {
   "cell_type": "code",
   "execution_count": 39,
   "metadata": {
    "colab": {
     "base_uri": "https://localhost:8080/",
     "height": 436
    },
    "colab_type": "code",
    "id": "YzNuY8knsRrh",
    "outputId": "f44917b1-e6ec-4d73-8ee7-89241bcfbe6e"
   },
   "outputs": [
    {
     "name": "stdout",
     "output_type": "stream",
     "text": [
      "Model: \"sequential_3\"\n",
      "_________________________________________________________________\n",
      "Layer (type)                 Output Shape              Param #   \n",
      "=================================================================\n",
      "embedding_1 (Embedding)      (None, 100, 100)          699700    \n",
      "_________________________________________________________________\n",
      "gru_2 (GRU)                  (None, 100)               60300     \n",
      "_________________________________________________________________\n",
      "batch_normalization_3 (Batch (None, 100)               400       \n",
      "_________________________________________________________________\n",
      "dense_6 (Dense)              (None, 4)                 404       \n",
      "=================================================================\n",
      "Total params: 760,804\n",
      "Trainable params: 760,604\n",
      "Non-trainable params: 200\n",
      "_________________________________________________________________\n",
      "None\n"
     ]
    },
    {
     "name": "stderr",
     "output_type": "stream",
     "text": [
      "C:\\ProgramData\\Anaconda3\\envs\\tensorflow_env\\lib\\site-packages\\tensorflow_core\\python\\framework\\indexed_slices.py:433: UserWarning: Converting sparse IndexedSlices to a dense Tensor of unknown shape. This may consume a large amount of memory.\n",
      "  \"Converting sparse IndexedSlices to a dense Tensor of unknown shape. \"\n"
     ]
    },
    {
     "name": "stdout",
     "output_type": "stream",
     "text": [
      "Epoch 1/2\n",
      "1628/1628 [==============================] - 3s 2ms/step - loss: 0.7251 - accuracy: 0.6958\n",
      "Epoch 2/2\n",
      "1628/1628 [==============================] - 3s 2ms/step - loss: 0.7072 - accuracy: 0.6921\n"
     ]
    }
   ],
   "source": [
    "embedding_vecor_length = 32\n",
    "modelg = Sequential()\n",
    "modelg.add(embedding_layer)\n",
    "modelg.add(GRU(100, dropout=0.2, recurrent_dropout=0.2))\n",
    "###\n",
    "modelg.add(BatchNormalization())\n",
    "###\n",
    "modelg.add(Dense(4, activation='softmax'))\n",
    "modelg.compile(loss='binary_crossentropy', optimizer='adam', metrics=['accuracy'])\n",
    "print(modelg.summary())\n",
    "modelg.fit(x_train, y_train, epochs=2, batch_size=64)\n",
    "modelg.save('gru.h5')\n"
   ]
  },
  {
   "cell_type": "code",
   "execution_count": 40,
   "metadata": {
    "colab": {
     "base_uri": "https://localhost:8080/",
     "height": 322
    },
    "colab_type": "code",
    "id": "0vEwgKvEsV7J",
    "outputId": "88b62b54-3cab-4a58-fde4-19d96a0b3ec6"
   },
   "outputs": [
    {
     "name": "stdout",
     "output_type": "stream",
     "text": [
      "Correct predictions: 673.0\n",
      "Total number of test examples: 685\n",
      "Accuracy of model1:  0.9824817518248176\n"
     ]
    },
    {
     "data": {
      "image/png": "[encoded data removed]",
      "text/plain": [
       "<Figure size 288x288 with 2 Axes>"
      ]
     },
     "metadata": {
      "needs_background": "light"
     },
     "output_type": "display_data"
    }
   ],
   "source": [
    "# Test model 1\n",
    "import matplotlib.pyplot as plt\n",
    "import seaborn as sns\n",
    "test_preds = modell.predict(x_test)\n",
    "test_preds = np.round(test_preds)\n",
    "correct_predictions = float(sum(test_preds == y_test)[0])\n",
    "print(\"Correct predictions:\", correct_predictions)\n",
    "print(\"Total number of test examples:\", len(y_test))\n",
    "print(\"Accuracy of model1: \", correct_predictions/float(len(y_test)))\n",
    "\n",
    "# Creating the Confusion Matrix\n",
    "from sklearn.metrics import confusion_matrix\n",
    "x_pred = modell.predict(x_test)\n",
    "x_pred = np.round(x_pred)\n",
    "x_pred = x_pred.argmax(1)\n",
    "y_test_s = y_test.argmax(1)\n",
    "cm = confusion_matrix(y_test_s, x_pred)\n",
    "plt.matshow(cm, cmap=plt.cm.binary, interpolation='nearest')\n",
    "plt.title('Confusion matrix - model1')\n",
    "plt.colorbar()\n",
    "plt.ylabel('expected label')\n",
    "plt.xlabel('predicted label')\n",
    "plt.show()\n",
    "#sns.set(font_scale=1.4)#for label size\n",
    "#sns.heatmap(cm,annot=True,annot_kws={\"size\": 16},fmt='1f')# font size\n"
   ]
  },
  {
   "cell_type": "code",
   "execution_count": 41,
   "metadata": {
    "colab": {
     "base_uri": "https://localhost:8080/",
     "height": 322
    },
    "colab_type": "code",
    "id": "PhWinPIgsZEB",
    "outputId": "e318c746-512f-48ce-f722-40174c2f5a82"
   },
   "outputs": [
    {
     "name": "stdout",
     "output_type": "stream",
     "text": [
      "Correct predictions: 522.0\n",
      "Total number of test examples: 685\n",
      "Accuracy of model1:  0.762043795620438\n"
     ]
    },
    {
     "data": {
      "image/png": "[encoded data removed]",
      "text/plain": [
       "<Figure size 288x288 with 2 Axes>"
      ]
     },
     "metadata": {
      "needs_background": "light"
     },
     "output_type": "display_data"
    }
   ],
   "source": [
    "# Test model 2\n",
    "import matplotlib.pyplot as plt\n",
    "import seaborn as sns\n",
    "test_preds = modelg.predict(x_test)\n",
    "test_preds = np.round(test_preds)\n",
    "correct_predictions = float(sum(test_preds == y_test)[0])\n",
    "print(\"Correct predictions:\", correct_predictions)\n",
    "print(\"Total number of test examples:\", len(y_test))\n",
    "print(\"Accuracy of model1: \", correct_predictions/float(len(y_test)))\n",
    "\n",
    "# Creating the Confusion Matrix\n",
    "from sklearn.metrics import confusion_matrix\n",
    "x_pred = modelg.predict(x_test)\n",
    "x_pred = np.round(x_pred)\n",
    "x_pred = x_pred.argmax(1)\n",
    "y_test_s = y_test.argmax(1)\n",
    "cm = confusion_matrix(y_test_s, x_pred)\n",
    "plt.matshow(cm, cmap=plt.cm.binary, interpolation='nearest')\n",
    "plt.title('Confusion matrix - model1')\n",
    "plt.colorbar()\n",
    "plt.ylabel('expected label')\n",
    "plt.xlabel('predicted label')\n",
    "plt.show()\n",
    "#sns.set(font_scale=1.4)#for label size\n",
    "#sns.heatmap(cm,annot=True,annot_kws={\"size\": 16},fmt='f')# font size"
   ]
  },
  {
   "cell_type": "code",
   "execution_count": null,
   "metadata": {
    "colab": {},
    "colab_type": "code",
    "id": "_0K2W7Gtr5_5"
   },
   "outputs": [],
   "source": []
  },
  {
   "cell_type": "code",
   "execution_count": null,
   "metadata": {},
   "outputs": [],
   "source": []
  },
  {
   "cell_type": "code",
   "execution_count": null,
   "metadata": {},
   "outputs": [],
   "source": []
  }
 ],
 "metadata": {
  "colab": {
   "name": "LSTM-LIAR.ipynb",
   "provenance": []
  },
  "kernelspec": {
   "display_name": "Python 3",
   "language": "python",
   "name": "python3"
  },
  "language_info": {
   "codemirror_mode": {
    "name": "ipython",
    "version": 3
   },
   "file_extension": ".py",
   "mimetype": "text/x-python",
   "name": "python",
   "nbconvert_exporter": "python",
   "pygments_lexer": "ipython3",
   "version": "3.6.10"
  }
 },
 "nbformat": 4,
 "nbformat_minor": 1
}
